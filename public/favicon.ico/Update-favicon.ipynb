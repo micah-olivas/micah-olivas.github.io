{
 "cells": [
  {
   "cell_type": "markdown",
   "metadata": {},
   "source": [
    "# Update favicon files"
   ]
  },
  {
   "cell_type": "code",
   "execution_count": 1,
   "metadata": {},
   "outputs": [
    {
     "data": {
      "text/plain": [
       "['/Users/micaholivas/Desktop/Personal/Personal_site/micah-olivas.github.io/public/favicon.ico/favicon-16x16.png',\n",
       " '/Users/micaholivas/Desktop/Personal/Personal_site/micah-olivas.github.io/public/favicon.ico/apple-icon.png',\n",
       " '/Users/micaholivas/Desktop/Personal/Personal_site/micah-olivas.github.io/public/favicon.ico/apple-icon-144x144.png',\n",
       " '/Users/micaholivas/Desktop/Personal/Personal_site/micah-olivas.github.io/public/favicon.ico/android-icon-192x192.png',\n",
       " '/Users/micaholivas/Desktop/Personal/Personal_site/micah-olivas.github.io/public/favicon.ico/apple-icon-precomposed.png',\n",
       " '/Users/micaholivas/Desktop/Personal/Personal_site/micah-olivas.github.io/public/favicon.ico/apple-icon-114x114.png',\n",
       " '/Users/micaholivas/Desktop/Personal/Personal_site/micah-olivas.github.io/public/favicon.ico/ms-icon-310x310.png',\n",
       " '/Users/micaholivas/Desktop/Personal/Personal_site/micah-olivas.github.io/public/favicon.ico/ms-icon-144x144.png',\n",
       " '/Users/micaholivas/Desktop/Personal/Personal_site/micah-olivas.github.io/public/favicon.ico/apple-icon-57x57.png',\n",
       " '/Users/micaholivas/Desktop/Personal/Personal_site/micah-olivas.github.io/public/favicon.ico/apple-icon-152x152.png',\n",
       " '/Users/micaholivas/Desktop/Personal/Personal_site/micah-olivas.github.io/public/favicon.ico/ms-icon-150x150.png',\n",
       " '/Users/micaholivas/Desktop/Personal/Personal_site/micah-olivas.github.io/public/favicon.ico/android-icon-72x72.png',\n",
       " '/Users/micaholivas/Desktop/Personal/Personal_site/micah-olivas.github.io/public/favicon.ico/android-icon-96x96.png',\n",
       " '/Users/micaholivas/Desktop/Personal/Personal_site/micah-olivas.github.io/public/favicon.ico/android-icon-36x36.png',\n",
       " '/Users/micaholivas/Desktop/Personal/Personal_site/micah-olivas.github.io/public/favicon.ico/apple-icon-180x180.png',\n",
       " '/Users/micaholivas/Desktop/Personal/Personal_site/micah-olivas.github.io/public/favicon.ico/favicon-96x96.png',\n",
       " '/Users/micaholivas/Desktop/Personal/Personal_site/micah-olivas.github.io/public/favicon.ico/apple-touch-icon-precomposed.png',\n",
       " '/Users/micaholivas/Desktop/Personal/Personal_site/micah-olivas.github.io/public/favicon.ico/android-icon-48x48.png',\n",
       " '/Users/micaholivas/Desktop/Personal/Personal_site/micah-olivas.github.io/public/favicon.ico/apple-icon-76x76.png',\n",
       " '/Users/micaholivas/Desktop/Personal/Personal_site/micah-olivas.github.io/public/favicon.ico/apple-icon-60x60.png',\n",
       " '/Users/micaholivas/Desktop/Personal/Personal_site/micah-olivas.github.io/public/favicon.ico/android-icon-144x144.png',\n",
       " '/Users/micaholivas/Desktop/Personal/Personal_site/micah-olivas.github.io/public/favicon.ico/apple-icon-72x72.png',\n",
       " '/Users/micaholivas/Desktop/Personal/Personal_site/micah-olivas.github.io/public/favicon.ico/apple-icon-120x120.png',\n",
       " '/Users/micaholivas/Desktop/Personal/Personal_site/micah-olivas.github.io/public/favicon.ico/favicon-32x32.png',\n",
       " '/Users/micaholivas/Desktop/Personal/Personal_site/micah-olivas.github.io/public/favicon.ico/ms-icon-70x70.png']"
      ]
     },
     "execution_count": 1,
     "metadata": {},
     "output_type": "execute_result"
    }
   ],
   "source": [
    "import os\n",
    "import sys\n",
    "from glob import glob\n",
    "\n",
    "# set origin file path\n",
    "origin_path = '/Users/micaholivas/Desktop/Personal/Personal_site/micah-olivas.github.io/public/favicon.ico/favicon-32x32.png'\n",
    "\n",
    "# set target directory path\n",
    "target_path = '/Users/micaholivas/Desktop/Personal/Personal_site/micah-olivas.github.io/public/favicon.ico'\n",
    "\n",
    "# get all .png files in target directory\n",
    "target_files = glob(target_path + '/*.png')\n",
    "target_files"
   ]
  },
  {
   "cell_type": "code",
   "execution_count": 2,
   "metadata": {},
   "outputs": [
    {
     "name": "stderr",
     "output_type": "stream",
     "text": [
      "cp: /Users/micaholivas/Desktop/Personal/Personal_site/micah-olivas.github.io/public/favicon.ico/favicon-32x32.png and /Users/micaholivas/Desktop/Personal/Personal_site/micah-olivas.github.io/public/favicon.ico/favicon-32x32.png are identical (not copied).\n"
     ]
    }
   ],
   "source": [
    "# copy origin file to all target files\n",
    "for target_file in target_files:\n",
    "    os.system('cp ' + origin_path + ' ' + target_file)"
   ]
  }
 ],
 "metadata": {
  "kernelspec": {
   "display_name": "base",
   "language": "python",
   "name": "python3"
  },
  "language_info": {
   "codemirror_mode": {
    "name": "ipython",
    "version": 3
   },
   "file_extension": ".py",
   "mimetype": "text/x-python",
   "name": "python",
   "nbconvert_exporter": "python",
   "pygments_lexer": "ipython3",
   "version": "3.8.11"
  }
 },
 "nbformat": 4,
 "nbformat_minor": 2
}
